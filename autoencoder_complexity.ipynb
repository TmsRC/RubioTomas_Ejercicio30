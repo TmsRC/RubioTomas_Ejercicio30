{
 "cells": [
  {
   "cell_type": "code",
   "execution_count": 1,
   "metadata": {},
   "outputs": [],
   "source": [
    "import numpy as np\n",
    "import matplotlib.pyplot as plt\n",
    "import torch\n",
    "import torchvision\n",
    "import torchvision.models\n",
    "import torchvision.transforms\n",
    "\n",
    "import sklearn.datasets\n",
    "import sklearn.preprocessing\n",
    "import sklearn.model_selection"
   ]
  },
  {
   "cell_type": "code",
   "execution_count": 2,
   "metadata": {},
   "outputs": [],
   "source": [
    "numeros = sklearn.datasets.load_digits()\n",
    "imagenes = numeros['images']  # Hay 1797 digitos representados en imagenes 8x8\n",
    "n_imagenes = len(imagenes)\n",
    "X = imagenes.reshape((n_imagenes, -1)) # para volver a tener los datos como imagen basta hacer data.reshape((n_imagenes, 8, 8))\n",
    "Y = numeros['target']\n",
    "\n",
    "scaler = sklearn.preprocessing.StandardScaler()\n",
    "X_train = scaler.fit_transform(X).reshape(n_imagenes,8,8)\n",
    "Y_train = Y\n",
    "\n",
    "x_train = torch.autograd.Variable(torch.Tensor(X_train).float())\n",
    "y_train = torch.autograd.Variable(torch.Tensor(Y_train).long())\n",
    "\n",
    "x_train = x_train.unsqueeze(1)"
   ]
  },
  {
   "cell_type": "code",
   "execution_count": 3,
   "metadata": {},
   "outputs": [
    {
     "name": "stdout",
     "output_type": "stream",
     "text": [
      "torch.Size([1797, 1, 8, 8])\n",
      "torch.Size([1797, 5, 4, 4])\n",
      "torch.Size([1797, 7, 3, 3])\n",
      "torch.Size([1797, 3, 2, 2])\n",
      "torch.Size([1797, 4, 2, 2])\n"
     ]
    }
   ],
   "source": [
    "# Verifico dimensiones de las capas\n",
    "print(x_train.size())\n",
    "\n",
    "n = torch.nn.Conv2d(1, 5,kernel_size=2,stride=2) # in-channels, out-channels, kernel, stride\n",
    "new_tensor = n(x_train)\n",
    "print(new_tensor.size())\n",
    "\n",
    "n = torch.nn.Conv2d(5,7,kernel_size=2,stride=1)\n",
    "new_tensor = n(new_tensor)\n",
    "print(new_tensor.size())\n",
    "\n",
    "n = torch.nn.Conv2d(7,3,kernel_size=1,stride=2)\n",
    "new_tensor = n(new_tensor)\n",
    "print(new_tensor.size())\n",
    "\n",
    "n = torch.nn.Conv2d(3,4,kernel_size=1,stride=1)\n",
    "new_tensor = n(new_tensor)\n",
    "print(new_tensor.size())"
   ]
  },
  {
   "cell_type": "code",
   "execution_count": 4,
   "metadata": {},
   "outputs": [],
   "source": [
    "# define el autoencoder\n",
    "class Autoencoder(torch.nn.Module):\n",
    "    def __init__(self,cs,ks,ss):\n",
    "        super(Autoencoder,self).__init__()\n",
    "        self.encoder = torch.nn.Sequential(\n",
    "            torch.nn.Conv2d(1,cs[0],kernel_size=ks[0], stride=ss[0]),\n",
    "            torch.nn.Conv2d(cs[0],cs[1],kernel_size=ks[1], stride=ss[1]),\n",
    "            torch.nn.Conv2d(cs[1],cs[2],kernel_size=ks[2], stride=ss[2])\n",
    "        )\n",
    "        self.decoder = torch.nn.Sequential(             \n",
    "            torch.nn.ConvTranspose2d(cs[2],cs[1],kernel_size=ks[2], stride=ss[2]),\n",
    "            torch.nn.ConvTranspose2d(cs[1],cs[0],kernel_size=ks[1], stride=ss[1]),\n",
    "            torch.nn.ConvTranspose2d(cs[0],1,kernel_size=ks[0], stride=ss[0]),\n",
    "        )\n",
    "    def forward(self,x):\n",
    "        x = self.encoder(x)\n",
    "        x = self.decoder(x)\n",
    "        return x\n",
    "    def num_parametros(self):\n",
    "        n_p = 0\n",
    "        for m in self.parameters():\n",
    "            n_p += m.flatten().size()[0]\n",
    "        return n_p\n",
    "    def espacio_latente(self):\n",
    "        return self.nl"
   ]
  },
  {
   "cell_type": "code",
   "execution_count": 5,
   "metadata": {},
   "outputs": [],
   "source": [
    "num_epochs = 100\n",
    "\n",
    "N_L = []\n",
    "N_C = []\n",
    "losses = []\n",
    "\n",
    "def intento(cs,ks,ss):\n",
    "    \n",
    "    model = Autoencoder(cs,ks,ss)\n",
    "    N_L.append(model.encoder(x_train).size()[3])\n",
    "    N_C.append(model.num_parametros())\n",
    "    distance = torch.nn.MSELoss()\n",
    "    optimizer = torch.optim.Adam(model.parameters(), lr=0.02, weight_decay=1E-3)\n",
    "    \n",
    "    for epoch in range(num_epochs):\n",
    "        output = model(x_train)\n",
    "        loss = distance(output, x_train)\n",
    "        optimizer.zero_grad()\n",
    "        loss.backward()\n",
    "        optimizer.step()\n",
    "    losses.append(loss.item())"
   ]
  },
  {
   "cell_type": "code",
   "execution_count": 6,
   "metadata": {},
   "outputs": [],
   "source": [
    "intento([1,1,1],[1,1,1],[1,1,1])\n",
    "intento([10,7,3],[1,3,1],[1,1,1])\n",
    "intento([5,7,3],[1,3,1],[1,1,1])"
   ]
  },
  {
   "cell_type": "code",
   "execution_count": 7,
   "metadata": {},
   "outputs": [],
   "source": [
    "# define el autoencoder\n",
    "class Autoencoder(torch.nn.Module):\n",
    "    def __init__(self,cs,ks,ss):\n",
    "        super(Autoencoder,self).__init__()\n",
    "        self.encoder = torch.nn.Sequential(\n",
    "            torch.nn.Conv2d(1,cs[0],kernel_size=ks[0], stride=ss[0]),\n",
    "            torch.nn.Conv2d(cs[0],cs[1],kernel_size=ks[1], stride=ss[1]),\n",
    "            torch.nn.Conv2d(cs[1],cs[2],kernel_size=ks[2], stride=ss[2]),\n",
    "            torch.nn.Conv2d(cs[2],cs[3],kernel_size=ks[3], stride=ss[3])\n",
    "        )\n",
    "        self.decoder = torch.nn.Sequential(             \n",
    "            torch.nn.ConvTranspose2d(cs[3],cs[2],kernel_size=ks[3], stride=ss[3]),\n",
    "            torch.nn.ConvTranspose2d(cs[2],cs[1],kernel_size=ks[2], stride=ss[2]),\n",
    "            torch.nn.ConvTranspose2d(cs[1],cs[0],kernel_size=ks[1], stride=ss[1]),\n",
    "            torch.nn.ConvTranspose2d(cs[0],1,kernel_size=ks[0], stride=ss[0]),\n",
    "        )\n",
    "    def forward(self,x):\n",
    "        x = self.encoder(x)\n",
    "        x = self.decoder(x)\n",
    "        return x\n",
    "    def num_parametros(self):\n",
    "        n_p = 0\n",
    "        for m in self.parameters():\n",
    "            n_p += m.flatten().size()[0]\n",
    "        return n_p\n",
    "    def espacio_latente(self):\n",
    "        return self.nl"
   ]
  },
  {
   "cell_type": "code",
   "execution_count": 8,
   "metadata": {},
   "outputs": [],
   "source": [
    "intento([10,7,3,4],[1,1,1,1],[1,1,1,1])\n",
    "intento([10,7,3,4],[3,1,1,1],[1,1,1,1])\n",
    "intento([10,7,3,4],[2,2,1,1],[1,1,1,1])"
   ]
  },
  {
   "cell_type": "code",
   "execution_count": 9,
   "metadata": {},
   "outputs": [],
   "source": [
    "# define el autoencoder\n",
    "class Autoencoder(torch.nn.Module):\n",
    "    def __init__(self,cs,ks,ss):\n",
    "        super(Autoencoder,self).__init__()\n",
    "        self.encoder = torch.nn.Sequential(\n",
    "            torch.nn.Conv2d(1,cs[0],kernel_size=ks[0], stride=ss[0]),\n",
    "            torch.nn.Conv2d(cs[0],cs[1],kernel_size=ks[1], stride=ss[1]),\n",
    "        )\n",
    "        self.decoder = torch.nn.Sequential(             \n",
    "            torch.nn.ConvTranspose2d(cs[1],cs[0],kernel_size=ks[1], stride=ss[1]),\n",
    "            torch.nn.ConvTranspose2d(cs[0],1,kernel_size=ks[0], stride=ss[0]),\n",
    "        )\n",
    "    def forward(self,x):\n",
    "        x = self.encoder(x)\n",
    "        x = self.decoder(x)\n",
    "        return x\n",
    "    def num_parametros(self):\n",
    "        n_p = 0\n",
    "        for m in self.parameters():\n",
    "            n_p += m.flatten().size()[0]\n",
    "        return n_p\n",
    "    def espacio_latente(self):\n",
    "        return self.nl"
   ]
  },
  {
   "cell_type": "code",
   "execution_count": 10,
   "metadata": {},
   "outputs": [],
   "source": [
    "intento([2,4],[2,2],[1,1])\n",
    "intento([2,4],[2,3],[1,1])\n",
    "intento([10,5],[3,2],[1,2])\n",
    "intento([3,6],[4,3],[2,1])"
   ]
  },
  {
   "cell_type": "code",
   "execution_count": 15,
   "metadata": {},
   "outputs": [
    {
     "data": {
      "text/plain": [
       "Text(0, 0.5, 'Dimensionalidad espacio latente')"
      ]
     },
     "execution_count": 15,
     "metadata": {},
     "output_type": "execute_result"
    },
    {
     "data": {
      "image/png": "[encoded data removed]",
      "text/plain": [
       "<Figure size 1440x360 with 3 Axes>"
      ]
     },
     "metadata": {
      "needs_background": "light"
     },
     "output_type": "display_data"
    }
   ],
   "source": [
    "plt.figure(figsize=(20,5))\n",
    "\n",
    "plt.subplot(1,3,1)\n",
    "plt.scatter(N_C,losses)\n",
    "plt.xlabel('Número de parámetros')\n",
    "plt.ylabel('Loss')\n",
    "\n",
    "plt.subplot(1,3,2)\n",
    "plt.scatter(N_L,losses)\n",
    "plt.xlabel('Dimensionalidad espacio latente')\n",
    "plt.ylabel('Loss')\n",
    "\n",
    "plt.subplot(1,3,3)\n",
    "plt.scatter(N_C,N_L)\n",
    "plt.xlabel('Número de parámetros')\n",
    "plt.ylabel('Dimensionalidad espacio latente')"
   ]
  },
  {
   "cell_type": "code",
   "execution_count": null,
   "metadata": {},
   "outputs": [],
   "source": []
  }
 ],
 "metadata": {
  "kernelspec": {
   "display_name": "Python 3",
   "language": "python",
   "name": "python3"
  },
  "language_info": {
   "codemirror_mode": {
    "name": "ipython",
    "version": 3
   },
   "file_extension": ".py",
   "mimetype": "text/x-python",
   "name": "python",
   "nbconvert_exporter": "python",
   "pygments_lexer": "ipython3",
   "version": "3.7.6"
  }
 },
 "nbformat": 4,
 "nbformat_minor": 4
}
